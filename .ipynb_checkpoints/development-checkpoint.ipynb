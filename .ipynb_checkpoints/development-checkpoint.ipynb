{
 "cells": [
  {
   "cell_type": "code",
   "execution_count": null,
   "metadata": {
    "collapsed": true
   },
   "outputs": [],
   "source": []
  },
  {
   "cell_type": "code",
   "execution_count": 1,
   "metadata": {},
   "outputs": [
    {
     "data": {
      "text/plain": [
       "perf_interp"
      ]
     },
     "execution_count": 1,
     "metadata": {},
     "output_type": "execute_result"
    }
   ],
   "source": [
    "include(\"src/weather/load_weather.jl\")\n",
    "include(\"src/route/domain.jl\")\n",
    "include(\"src/performance/polar.jl\")"
   ]
  },
  {
   "cell_type": "markdown",
   "metadata": {},
   "source": [
    "# sail_route.jl Development\n",
    "\n",
    "Notebook to enable the development of functions used for sail_route.jl\n",
    "\n",
    "## Focus\n",
    "\n",
    "Developing the shortest path routing algorithm.\n",
    "\n",
    "- [x] Specify the start and end points\n",
    "- [x] Calculate the analytical solution for the fastest route between two points\n",
    "- [x] Load control weather scenario.\n",
    "- [x] Check interpolation from weather scenario\n",
    "- [x] Generate grid\n",
    "- [x] Simple cost function\n",
    "- [x] First for loop\n",
    "- [x] Generate index array\n",
    "- [x] Intermediate for loop\n",
    "- [x] End for loop\n",
    "- [ ] Shortest path \n",
    "- [x] Check that the times work\n",
    "- [ ] Load current data\n",
    "- [ ] Optimum path considering the current\n",
    "\n",
    "\n",
    "The domain is from 0 to 10 in both the x and y directions.\n",
    "\n",
    "- Start = (0, 5) (x, y)\n",
    "- Finish = (10, 5) "
   ]
  },
  {
   "cell_type": "code",
   "execution_count": 2,
   "metadata": {},
   "outputs": [],
   "source": [
    "# Analytical solution\n",
    "lon1 = 0.0\n",
    "lat1 = 5.0\n",
    "lon2 = 10.0\n",
    "lat2 = 5.0\n",
    "\n",
    "d_an, b_an = haversine(lon1, lat1, lon2, lat2)\n",
    "d_an_str = @sprintf(\"%0.3f\", d_an)\n",
    "b_an_str = @sprintf(\"%0.3f\", b_an)\n",
    "println(\"Analytical distance is $d_an_str nm\")\n",
    "println(\"Analytical bearing is $b_an_str deg\")"
   ]
  },
  {
   "cell_type": "code",
   "execution_count": 3,
   "metadata": {},
   "outputs": [
    {
     "name": "stdout",
     "output_type": "stream",
     "text": [
      "Analytical distance is 598.283 nm\n",
      "Analytical bearing is 89.563 deg\n",
      "Start time 2000-01-01T00:06:00\n",
      "10.0\n",
      " "
     ]
    }
   ],
   "source": [
    "# start time \n",
    "start = Dates.DateTime(2000, 1, 1, 0, 6, 0)\n",
    "x_int = 5.0\n",
    "y_int = 5.0\n",
    "println(\"Start time \", start)\n",
    "\n",
    "# test interpolation of weather scenario\n",
    "wisi, widi = sample_weather()\n",
    "\n",
    "w_int = wisi[:interp](time=start, lon_b=x_int, lat_b=y_int)[:data]\n",
    "@time println(w_int)"
   ]
  },
  {
   "cell_type": "code",
   "execution_count": 4,
   "metadata": {},
   "outputs": [
    {
     "name": "stdout",
     "output_type": "stream",
     "text": [
      " 0.393087 seconds (359.73 k allocations: 18.025 MiB, 2.27% gc time)\n",
      "8.333369236174814 1.6666307638251738\n",
      "6.098621432057039 3.9293327250178742\n"
     ]
    }
   ],
   "source": [
    "# generate grid \n",
    "x, y, land = co_ordinates(lon1, lon2, lat1, lat2, 5, 5, 100000)\n",
    "println(maximum(x), \" \", minimum(x))\n",
    "println(maximum(y), \" \", minimum(y))\n",
    "println(x)"
   ]
  },
  {
   "cell_type": "code",
   "execution_count": null,
   "metadata": {
    "collapsed": true
   },
   "outputs": [],
   "source": []
  },
  {
   "cell_type": "code",
   "execution_count": 5,
   "metadata": {},
   "outputs": [
    {
     "name": "stdout",
     "output_type": "stream",
     "text": [
      "[1.66663 1.66663 1.66663 1.66663 1.66663; 3.3333 3.3333 3.3333 3.3333 3.3333; 5.0 5.0 5.0 5.0 5.0; 6.6667 6.6667 6.6667 6.6667 6.6667; 8.33337 8.33337 8.33337 8.33337 8.33337]\n"
     ]
    },
    {
     "data": {
      "text/plain": [
       "convert_time (generic function with 1 method)"
      ]
     },
     "execution_count": 5,
     "metadata": {},
     "output_type": "execute_result"
    },
    {
     "name": "stdout",
     "output_type": "stream",
     "text": [
      "Float64\n",
      "Analytical time is 76.9907233253178 hrs\n"
     ]
    }
   ],
   "source": [
    "# load performance data \n",
    "path = ENV[\"HOME\"]*\"/Documents/sail_route.jl/src/data/first40_orgi.csv\"\n",
    "twa, tws, perf = load_file(path)\n",
    "polar = setup_interpolation(tws, twa, perf)\n",
    "\n",
    "\n",
    "# cost function\n",
    "# ws_int, Interpolated wind speed (kts)\n",
    "# wd_int, Interpolated wind direction (deg)\n",
    "# d, Distance (nm)\n",
    "# b, Bearing (nm)\n",
    "function cost_function(polar, ws_int, wd_int, d, b)\n",
    "    vs = perf_interp(polar, min_angle(wd_int, b), ws_int)\n",
    "    return d/vs\n",
    "end\n",
    "\n",
    "d, b = haversine(lon1, lat1, lon2, lat2)\n",
    "time_an = cost_function(polar, 10.0, 10.0, d, b)\n",
    "println(typeof(time_an))\n",
    "println(\"Analytical time is $time_an hrs\")\n",
    "\n",
    "function convert_time(old_time)\n",
    "    \"\"\"Convert hours in float to hours and minutes.\"\"\"\n",
    "    h = floor(old_time)\n",
    "    m = floor((old_time - h)*60)\n",
    "    return Dates.Hour(h)+Dates.Minute(m)\n",
    "end"
   ]
  },
  {
   "cell_type": "code",
   "execution_count": 6,
   "metadata": {},
   "outputs": [],
   "source": [
    "@time begin\n",
    "\n",
    "# print co-ordinates\n",
    "x, y, land = co_ordinates(lon1, lon2, lat1, lat2, 40, 40, 1000)\n",
    "empty = zeros(x)\n",
    "earliest_times = fill!(empty, Inf)\n",
    "prev_node = zeros(x)\n",
    "node_indices = reshape(1:length(x), size(x)) # look at existing method for calculating indices\n",
    "arrival_time = Inf\n",
    "\n",
    "for idx in 1:size(x)[2]\n",
    "    d, b = haversine(lon1, lat1, x[1, idx], y[1, idx])\n",
    "    ws_int = wisi[:interp](time=start, lon_b=x[1, idx], lat_b=y[1, idx])[:data]\n",
    "    wd_int = widi[:interp](time=start, lon_b=x[1, idx], lat_b=y[1, idx])[:data]\n",
    "    # include current here\n",
    "    earliest_times[1, idx] = cost_function(polar, ws_int[1], wd_int[1], d, b)\n",
    "end\n",
    " \n",
    "\n",
    "for idy in 1:size(x)[1]-1\n",
    "    for idx in 1:size(x)[2]\n",
    "        t = start + convert_time(earliest_times[idy, idx])\n",
    "        d, b = haversine(x[idy, idx], y[idy, idx], x[idy+1, idx], y[idy+1, idx])\n",
    "        ws_int = wisi[:interp](time=t, lon_b=x[idy, idx], lat_b=y[idy, idx])[:data]\n",
    "        wd_int = widi[:interp](time=t, lon_b=x[idy, idx], lat_b=y[idy, idx])[:data]\n",
    "        tt = earliest_times[idy, idx] + cost_function(polar, ws_int[1], wd_int[1], d, b) \n",
    "        if earliest_times[idy+1, idx] > tt\n",
    "            earliest_times[idy+1, idx] = tt\n",
    "        end\n",
    "    end\n",
    "end\n",
    "\n",
    "for idx in 1:size(x)[2]\n",
    "    d, b = haversine(x[end, idx], y[end, idx], lon2, lat2)\n",
    "    t = start + convert_time(earliest_times[end, idx])\n",
    "    ws_int = wisi[:interp](time=start, lon_b=x[end, idx], lat_b=y[end, idx])[:data]\n",
    "    wd_int = widi[:interp](time=start, lon_b=x[end, idx], lat_b=y[end, idx])[:data]\n",
    "    tt = earliest_times[end, idx] + cost_function(polar, ws_int[1], wd_int[1], d, b) \n",
    "    if arrival_time > tt\n",
    "        arrival_time = tt\n",
    "    end\n",
    "end\n",
    "    \n",
    "end\n",
    "print(arrival_time)"
   ]
  },
  {
   "cell_type": "code",
   "execution_count": 7,
   "metadata": {},
   "outputs": [
    {
     "data": {
      "text/plain": [
       "current (generic function with 1 method)"
      ]
     },
     "execution_count": 7,
     "metadata": {},
     "output_type": "execute_result"
    },
    {
     "name": "stdout",
     "output_type": "stream",
     "text": [
      " 28.216652 seconds (671.34 k allocations: 26.289 MiB, 0.05% gc time)\n",
      "75.6450020999251"
     ]
    }
   ],
   "source": [
    "\n",
    "\n",
    "function h(cudi, cusp, bearing)\n",
    "   cusp*sin(deg2rad(cudi-bearing))\n",
    "end\n",
    "\n",
    "\n",
    "function current(polar, cudi, cusp, widi, wisp, bearing, heading)\n",
    "    vs = perf_interp(polar, min_angle(widi, heading), wisp)\n",
    "    return (acos(h(cudi, cusp, bearing)/vs)*180/π - bearing)\n",
    "end"
   ]
  },
  {
   "cell_type": "code",
   "execution_count": 16,
   "metadata": {},
   "outputs": [
    {
     "data": {
      "text/plain": [
       "7.91"
      ]
     },
     "execution_count": 16,
     "metadata": {},
     "output_type": "execute_result"
    },
    {
     "name": "stdout",
     "output_type": "stream",
     "text": [
      "  0.000011 seconds (1 allocation: 16 bytes)\n",
      "0.0\n",
      "90.0\n",
      "7.91\n"
     ]
    }
   ],
   "source": [
    "# iterate heading values until they converge\n",
    "# current(polar, cudi, cusp, widi, wisp, bearing, heading)\n",
    "cudi = 180.0\n",
    "cusp = 0.0\n",
    "widi = 0.0\n",
    "wisp = 10.0\n",
    "bearing = 90.0\n",
    "h1 = 0.0\n",
    "h2 = current(polar, cudi, cusp, widi, wisp, bearing, h1)\n",
    "@time while h2 - h1 > 0.1\n",
    "    h1 = h2\n",
    "    h2 = current(polar, cudi, cusp, widi, wisp, bearing, h1)\n",
    "end\n",
    "println(h2)\n",
    "println(bearing + h2)\n",
    "\n",
    "\n",
    "function correct_speed(polar, cudi, cusp, widi, wisp, bearing)\n",
    "    \"\"\"Identify corrected speed for routing.\"\"\"\n",
    "    h1 = 0.0\n",
    "    h2 = current(polar, cudi, cusp, widi, wisp, bearing, h1)\n",
    "    while h2 - h1 > 0.1\n",
    "            h1 = h2\n",
    "            h2 = current(polar, cudi, cusp, widi, wisp, bearing, h1)\n",
    "    end\n",
    "    bearing = bearing + h2\n",
    "    vs = perf_interp(polar, min_angle(widi, bearing), wisp)\n",
    "    println(vs)\n",
    "    return vs + cusp\n",
    "end\n",
    "\n",
    "correct_speed(polar, cudi, cusp, widi, wisp, bearing)"
   ]
  },
  {
   "cell_type": "code",
   "execution_count": null,
   "metadata": {
    "collapsed": true
   },
   "outputs": [],
   "source": []
  }
 ],
 "metadata": {
  "kernelspec": {
   "display_name": "Julia 0.6.3",
   "language": "julia",
   "name": "julia-0.6"
  },
  "language_info": {
   "file_extension": ".jl",
   "mimetype": "application/julia",
   "name": "julia",
   "version": "0.6.3"
  }
 },
 "nbformat": 4,
 "nbformat_minor": 2
}
