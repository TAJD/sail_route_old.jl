{
 "cells": [
  {
   "cell_type": "code",
   "execution_count": null,
   "metadata": {
    "collapsed": true
   },
   "outputs": [],
   "source": []
  },
  {
   "cell_type": "code",
   "execution_count": 1,
   "metadata": {},
   "outputs": [
    {
     "ename": "LoadError",
     "evalue": "\u001b[91mcould not open file /Users/thomasdickson/development/src/weather/load_weather.jl\u001b[39m",
     "output_type": "error",
     "traceback": [
      "\u001b[91mcould not open file /Users/thomasdickson/development/src/weather/load_weather.jl\u001b[39m",
      "",
      "Stacktrace:",
      " [1] \u001b[1minclude_from_node1\u001b[22m\u001b[22m\u001b[1m(\u001b[22m\u001b[22m::String\u001b[1m)\u001b[22m\u001b[22m at \u001b[1m./loading.jl:576\u001b[22m\u001b[22m",
      " [2] \u001b[1minclude\u001b[22m\u001b[22m\u001b[1m(\u001b[22m\u001b[22m::String\u001b[1m)\u001b[22m\u001b[22m at \u001b[1m./sysimg.jl:14\u001b[22m\u001b[22m"
     ]
    }
   ],
   "source": [
    "include(\"src/weather/load_weather.jl\")\n",
    "include(\"src/route/domain.jl\")\n",
    "include(\"src/performance/polar.jl\")"
   ]
  },
  {
   "cell_type": "markdown",
   "metadata": {},
   "source": [
    "# sail_route.jl Development\n",
    "\n",
    "Notebook to enable the development of functions used for sail_route.jl\n",
    "\n",
    "## Focus\n",
    "\n",
    "Developing the shortest path routing algorithm.\n",
    "\n",
    "- [x] Specify the start and end points\n",
    "- [x] Calculate the analytical solution for the fastest route between two points\n",
    "- [x] Load control weather scenario.\n",
    "- [x] Check interpolation from weather scenario\n",
    "- [x] Generate grid\n",
    "- [x] Simple cost function\n",
    "- [x] First for loop\n",
    "- [x] Generate index array\n",
    "- [x] Intermediate for loop\n",
    "- [x] End for loop\n",
    "- [ ] Shortest path \n",
    "- [x] Check that the times work\n",
    "- [ ] Load current data\n",
    "- [ ] Optimum path considering the current\n",
    "\n",
    "\n",
    "The domain is from 0 to 10 in both the x and y directions.\n",
    "\n",
    "- Start = (0, 5) (x, y)\n",
    "- Finish = (10, 5) "
   ]
  },
  {
   "cell_type": "code",
   "execution_count": 2,
   "metadata": {
    "collapsed": true
   },
   "outputs": [],
   "source": [
    "# Analytical solution\n",
    "lon1 = 0.0\n",
    "lat1 = 5.0\n",
    "lon2 = 10.0\n",
    "lat2 = 5.0\n",
    "\n",
    "d_an, b_an = haversine(lon1, lat1, lon2, lat2)\n",
    "d_an_str = @sprintf(\"%0.3f\", d_an)\n",
    "b_an_str = @sprintf(\"%0.3f\", b_an)\n",
    "println(\"Analytical distance is $d_an_str nm\")\n",
    "println(\"Analytical bearing is $b_an_str deg\")"
   ]
  },
  {
   "cell_type": "code",
   "execution_count": 3,
   "metadata": {},
   "outputs": [
    {
     "name": "stdout",
     "output_type": "stream",
     "text": [
      "Analytical distance is 598.283 nm\n",
      "Analytical bearing is 89.563 deg\n",
      "Start time 2000-01-01T00:06:00\n",
      "10.0\n",
      " "
     ]
    }
   ],
   "source": [
    "# start time \n",
    "start = Dates.DateTime(2000, 1, 1, 0, 6, 0)\n",
    "x_int = 5.0\n",
    "y_int = 5.0\n",
    "println(\"Start time \", start)\n",
    "\n",
    "# test interpolation of weather scenario\n",
    "wisi, widi = sample_weather()\n",
    "\n",
    "w_int = wisi[:interp](time=start, lon_b=x_int, lat_b=y_int)[:data]\n",
    "@time println(w_int)"
   ]
  },
  {
   "cell_type": "code",
   "execution_count": 4,
   "metadata": {},
   "outputs": [
    {
     "name": "stdout",
     "output_type": "stream",
     "text": [
      " 0.390435 seconds (359.71 k allocations: 17.983 MiB, 2.19% gc time)\n",
      "8.333369236174814 1.6666307638251738\n",
      "6.098621432057039 3.9293327250178742\n"
     ]
    }
   ],
   "source": [
    "# generate grid \n",
    "x, y, land = co_ordinates(lon1, lon2, lat1, lat2, 5, 5, 100000)\n",
    "println(maximum(x), \" \", minimum(x))\n",
    "println(maximum(y), \" \", minimum(y))\n",
    "println(x)"
   ]
  },
  {
   "cell_type": "code",
   "execution_count": null,
   "metadata": {
    "collapsed": true
   },
   "outputs": [],
   "source": []
  },
  {
   "cell_type": "code",
   "execution_count": null,
   "metadata": {},
   "outputs": [],
   "source": [
    "# load performance data \n",
    "path = ENV[\"HOME\"]*\"/Documents/sail_route.jl/src/data/first40_orgi.csv\"\n",
    "twa, tws, perf = load_file(path)\n",
    "polar = setup_interpolation(tws, twa, perf)\n",
    "\n",
    "\n",
    "# cost function\n",
    "# ws_int, Interpolated wind speed (kts)\n",
    "# wd_int, Interpolated wind direction (deg)\n",
    "# d, Distance (nm)\n",
    "# b, Bearing (nm)\n",
    "function cost_function(polar, ws_int, wd_int, d, b)\n",
    "    # add the current calculation aspect here\n",
    "    vs = perf_interp(polar, min_angle(wd_int, b), ws_int)\n",
    "    return d/vs\n",
    "end\n",
    "\n",
    "d, b = haversine(lon1, lat1, lon2, lat2)\n",
    "time_an = cost_function(polar, 10.0, 10.0, d, b)\n",
    "println(typeof(time_an))\n",
    "println(\"Analytical time is $time_an hrs\")\n",
    "\n",
    "function convert_time(old_time)\n",
    "    \"\"\"Convert hours in float to hours and minutes.\"\"\"\n",
    "    h = floor(old_time)\n",
    "    m = floor((old_time - h)*60)\n",
    "    return Dates.Hour(h)+Dates.Minute(m)\n",
    "end"
   ]
  },
  {
   "cell_type": "code",
   "execution_count": null,
   "metadata": {},
   "outputs": [],
   "source": [
    "function h(cudi, cusp, bearing)\n",
    "   cusp*sin(deg2rad(cudi-bearing))\n",
    "end\n",
    "\n",
    "\n",
    "function current(polar, cudi, cusp, widi, wisp, bearing, heading)\n",
    "    vs = perf_interp(polar, min_angle(widi, heading), wisp)\n",
    "    return (acos(h(cudi, cusp, bearing)/vs)*180/π - bearing)\n",
    "end"
   ]
  },
  {
   "cell_type": "code",
   "execution_count": 8,
   "metadata": {},
   "outputs": [
    {
     "name": "stdout",
     "output_type": "stream",
     "text": [
      "  0.000031 seconds (1 allocation: 16"
     ]
    },
    {
     "data": {
      "text/plain": [
       "7.91"
      ]
     },
     "execution_count": 8,
     "metadata": {},
     "output_type": "execute_result"
    },
    {
     "name": "stdout",
     "output_type": "stream",
     "text": [
      " bytes)\n",
      "0.0\n",
      "90.0\n",
      "7.91\n"
     ]
    }
   ],
   "source": [
    "# iterate heading values until they converge\n",
    "# current(polar, cudi, cusp, widi, wisp, bearing, heading)\n",
    "cudi = 180.0\n",
    "cusp = 0.0\n",
    "widi = 0.0\n",
    "wisp = 10.0\n",
    "bearing = 90.0\n",
    "h1 = 0.0\n",
    "h2 = current(polar, cudi, cusp, widi, wisp, bearing, h1)\n",
    "@time while h2 - h1 > 0.1\n",
    "    h1 = h2\n",
    "    h2 = current(polar, cudi, cusp, widi, wisp, bearing, h1)\n",
    "end\n",
    "println(h2)\n",
    "println(bearing + h2)\n",
    "\n",
    "\n",
    "function correct_speed(polar, cudi, cusp, widi, wisp, bearing)\n",
    "    \"\"\"Identify corrected speed for routing.\"\"\"\n",
    "    h1 = 0.0\n",
    "    h2 = current(polar, cudi, cusp, widi, wisp, bearing, h1)\n",
    "    while h2 - h1 > 0.1\n",
    "            h1 = h2\n",
    "            h2 = current(polar, cudi, cusp, widi, wisp, bearing, h1)\n",
    "    end\n",
    "    bearing = bearing + h2\n",
    "    vs = perf_interp(polar, min_angle(widi, bearing), wisp)\n",
    "    return vs + cusp\n",
    "end\n",
    "\n",
    "# correct_speed(polar, cudi, cusp, widi, wisp, bearing)\n",
    "\n",
    "function identify_shortest_path(prev_node, indices)\n",
    "    \n",
    "end"
   ]
  },
  {
   "cell_type": "code",
   "execution_count": 6,
   "metadata": {},
   "outputs": [
    {
     "name": "stdout",
     "output_type": "stream",
     "text": [
      "Float64\n",
      "Analytical time is 76.9907233253178 hrs\n"
     ]
    }
   ],
   "source": [
    "@time begin\n",
    "\n",
    "x, y, land = co_ordinates(lon1, lon2, lat1, lat2, 40, 40, 1000)\n",
    "wisi, widi = sample_weather()\n",
    "empty = zeros(x)\n",
    "earliest_times = fill!(empty, Inf)\n",
    "prev_node = zeros(x)\n",
    "node_indices = reshape(1:length(x), size(x)) \n",
    "arrival_time = Inf\n",
    "\n",
    "for idx in 1:size(x)[2]\n",
    "    d, b = haversine(lon1, lat1, x[1, idx], y[1, idx])\n",
    "    ws_int = wisi[:interp](time=start, lon_b=x[1, idx], lat_b=y[1, idx])[:data]\n",
    "    wd_int = widi[:interp](time=start, lon_b=x[1, idx], lat_b=y[1, idx])[:data]\n",
    "    # include current here\n",
    "    earliest_times[1, idx] = cost_function(polar, ws_int[1], wd_int[1], d, b)\n",
    "    # include the fastest node here\n",
    "end\n",
    " \n",
    "\n",
    "for idy in 1:size(x)[1]-1\n",
    "    for idx in 1:size(x)[2]\n",
    "        t = start + convert_time(earliest_times[idy, idx])\n",
    "        d, b = haversine(x[idy, idx], y[idy, idx], x[idy+1, idx], y[idy+1, idx])\n",
    "        ws_int = wisi[:interp](time=t, lon_b=x[idy, idx], lat_b=y[idy, idx])[:data]\n",
    "        wd_int = widi[:interp](time=t, lon_b=x[idy, idx], lat_b=y[idy, idx])[:data]\n",
    "        tt = earliest_times[idy, idx] + cost_function(polar, ws_int[1], wd_int[1], d, b) \n",
    "        if earliest_times[idy+1, idx] > tt\n",
    "            earliest_times[idy+1, idx] = tt\n",
    "        end\n",
    "    end\n",
    "end\n",
    "\n",
    "for idx in 1:size(x)[2]\n",
    "    d, b = haversine(x[end, idx], y[end, idx], lon2, lat2)\n",
    "    t = start + convert_time(earliest_times[end, idx])\n",
    "    ws_int = wisi[:interp](time=start, lon_b=x[end, idx], lat_b=y[end, idx])[:data]\n",
    "    wd_int = widi[:interp](time=start, lon_b=x[end, idx], lat_b=y[end, idx])[:data]\n",
    "    tt = earliest_times[end, idx] + cost_function(polar, ws_int[1], wd_int[1], d, b) \n",
    "    if arrival_time > tt\n",
    "        arrival_time = tt\n",
    "    end\n",
    "end\n",
    "    \n",
    "end\n",
    "print(arrival_time)"
   ]
  },
  {
   "cell_type": "code",
   "execution_count": 9,
   "metadata": {},
   "outputs": [
    {
     "name": "stdout",
     "output_type": "stream",
     "text": [
      "[1 41 81 121 161 201 241 281 321 361 401 441 481 521 561 601 641 681 721 761 801 841 881 921 961 1001 1041 1081 1121 1161 1201 1241 1281 1321 1361 1401 1441 1481 1521 1561; 2 42 82 122 162 202 242 282 322 362 402 442 482 522 562 602 642 682 722 762 802 842 882 922 962 1002 1042 1082 1122 1162 1202 1242 1282 1322 1362 1402 1442 1482 1522 1562; 3 43 83 123 163 203 243 283 323 363 403 443 483 523 563 603 643 683 723 763 803 843 883 923 963 1003 1043 1083 1123 1163 1203 1243 1283 1323 1363 1403 1443 1483 1523 1563; 4 44 84 124 164 204 244 284 324 364 404 444 484 524 564 604 644 684 724 764 804 844 884 924 964 1004 1044 1084 1124 1164 1204 1244 1284 1324 1364 1404 1444 1484 1524 1564; 5 45 85 125 165 205 245 285 325 365 405 445 485 525 565 605 645 685 725 765 805 845 885 925 965 1005 1045 1085 1125 1165 1205 1245 1285 1325 1365 1405 1445 1485 1525 1565; 6 46 86 126 166 206 246 286 326 366 406 446 486 526 566 606 646 686 726 766 806 846 886 926 966 1006 1046 1086 1126 1166 1206 1246 1286 1326 1366 1406 1446 1486 1526 1566; 7 47 87 127 167 207 247 287 327 367 407 447 487 527 567 607 647 687 727 767 807 847 887 927 967 1007 1047 1087 1127 1167 1207 1247 1287 1327 1367 1407 1447 1487 1527 1567; 8 48 88 128 168 208 248 288 328 368 408 448 488 528 568 608 648 688 728 768 808 848 888 928 968 1008 1048 1088 1128 1168 1208 1248 1288 1328 1368 1408 1448 1488 1528 1568; 9 49 89 129 169 209 249 289 329 369 409 449 489 529 569 609 649 689 729 769 809 849 889 929 969 1009 1049 1089 1129 1169 1209 1249 1289 1329 1369 1409 1449 1489 1529 1569; 10 50 90 130 170 210 250 290 330 370 410 450 490 530 570 610 650 690 730 770 810 850 890 930 970 1010 1050 1090 1130 1170 1210 1250 1290 1330 1370 1410 1450 1490 1530 1570; 11 51 91 131 171 211 251 291 331 371 411 451 491 531 571 611 651 691 731 771 811 851 891 931 971 1011 1051 1091 1131 1171 1211 1251 1291 1331 1371 1411 1451 1491 1531 1571; 12 52 92 132 172 212 252 292 332 372 412 452 492 532 572 612 652 692 732 772 812 852 892 932 972 1012 1052 1092 1132 1172 1212 1252 1292 1332 1372 1412 1452 1492 1532 1572; 13 53 93 133 173 213 253 293 333 373 413 453 493 533 573 613 653 693 733 773 813 853 893 933 973 1013 1053 1093 1133 1173 1213 1253 1293 1333 1373 1413 1453 1493 1533 1573; 14 54 94 134 174 214 254 294 334 374 414 454 494 534 574 614 654 694 734 774 814 854 894 934 974 1014 1054 1094 1134 1174 1214 1254 1294 1334 1374 1414 1454 1494 1534 1574; 15 55 95 135 175 215 255 295 335 375 415 455 495 535 575 615 655 695 735 775 815 855 895 935 975 1015 1055 1095 1135 1175 1215 1255 1295 1335 1375 1415 1455 1495 1535 1575; 16 56 96 136 176 216 256 296 336 376 416 456 496 536 576 616 656 696 736 776 816 856 896 936 976 1016 1056 1096 1136 1176 1216 1256 1296 1336 1376 1416 1456 1496 1536 1576; 17 57 97 137 177 217 257 297 337 377 417 457 497 537 577 617 657 697 737 777 817 857 897 937 977 1017 1057 1097 1137 1177 1217 1257 1297 1337 1377 1417 1457 1497 1537 1577; 18 58 98 138 178 218 258 298 338 378 418 458 498 538 578 618 658 698 738 778 818 858 898 938 978 1018 1058 1098 1138 1178 1218 1258 1298 1338 1378 1418 1458 1498 1538 1578; 19 59 99 139 179 219 259 299 339 379 419 459 499 539 579 619 659 699 739 779 819 859 899 939 979 1019 1059 1099 1139 1179 1219 1259 1299 1339 1379 1419 1459 1499 1539 1579; 20 60 100 140 180 220 260 300 340 380 420 460 500 540 580 620 660 700 740 780 820 860 900 940 980 1020 1060 1100 1140 1180 1220 1260 1300 1340 1380 1420 1460 1500 1540 1580; 21 61 101 141 181 221 261 301 341 381 421 461 501 541 581 621 661 701 741 781 821 861 901 941 981 1021 1061 1101 1141 1181 1221 1261 1301 1341 1381 1421 1461 1501 1541 1581; 22 62 102 142 182 222 262 302 342 382 422 462 502 542 582 622 662 702 742 782 822 862 902 942 982 1022 1062 1102 1142 1182 1222 1262 1302 1342 1382 1422 1462 1502 1542 1582; 23 63 103 143 183 223 263 303 343 383 423 463 503 543 583 623 663 703 743 783 823 863 903 943 983 1023 1063 1103 1143 1183 1223 1263 1303 1343 1383 1423 1463 1503 1543 1583; 24 64 104 144 184 224 264 304 344 384 424 464 504 544 584 624 664 704 744 784 824 864 904 944 984 1024 1064 1104 1144 1184 1224 1264 1304 1344 1384 1424 1464 1504 1544 1584; 25 65 105 145 185 225 265 305 345 385 425 465 505 545 585 625 665 705 745 785 825 865 905 945 985 1025 1065 1105 1145 1185 1225 1265 1305 1345 1385 1425 1465 1505 1545 1585; 26 66 106 146 186 226 266 306 346 386 426 466 506 546 586 626 666 706 746 786 826 866 906 946 986 1026 1066 1106 1146 1186 1226 1266 1306 1346 1386 1426 1466 1506 1546 1586; 27 67 107 147 187 227 267 307 347 387 427 467 507 547 587 627 667 707 747 787 827 867 907 947 987 1027 1067 1107 1147 1187 1227 1267 1307 1347 1387 1427 1467 1507 1547 1587; 28 68 108 148 188 228 268 308 348 388 428 468 508 548 588 628 668 708 748 788 828 868 908 948 988 1028 1068 1108 1148 1188 1228 1268 1308 1348 1388 1428 1468 1508 1548 1588; 29 69 109 149 189 229 269 309 349 389 429 469 509 549 589 629 669 709 749 789 829 869 909 949 989 1029 1069 1109 1149 1189 1229 1269 1309 1349 1389 1429 1469 1509 1549 1589; 30 70 110 150 190 230 270 310 350 390 430 470 510 550 590 630 670 710 750 790 830 870 910 950 990 1030 1070 1110 1150 1190 1230 1270 1310 1350 1390 1430 1470 1510 1550 1590; 31 71 111 151 191 231 271 311 351 391 431 471 511 551 591 631 671 711 751 791 831 871 911 951 991 1031 1071 1111 1151 1191 1231 1271 1311 1351 1391 1431 1471 1511 1551 1591; 32 72 112 152 192 232 272 312 352 392 432 472 512 552 592 632 672 712 752 792 832 872 912 952 992 1032 1072 1112 1152 1192 1232 1272 1312 1352 1392 1432 1472 1512 1552 1592; 33 73 113 153 193 233 273 313 353 393 433 473 513 553 593 633 673 713 753 793 833 873 913 953 993 1033 1073 1113 1153 1193 1233 1273 1313 1353 1393 1433 1473 1513 1553 1593; 34 74 114 154 194 234 274 314 354 394 434 474 514 554 594 634 674 714 754 794 834 874 914 954 994 1034 1074 1114 1154 1194 1234 1274 1314 1354 1394 1434 1474 1514 1554 1594; 35 75 115 155 195 235 275 315 355 395 435 475 515 555 595 635 675 715 755 795 835 875 915 955 995 1035 1075 1115 1155 1195 1235 1275 1315 1355 1395 1435 1475 1515 1555 1595; 36 76 116 156 196 236 276 316 356 396 436 476 516 556 596 636 676 716 756 796 836 876 916 956 996 1036 1076 1116 1156 1196 1236 1276 1316 1356 1396 1436 1476 1516 1556 1596; 37 77 117 157 197 237 277 317 357 397 437 477 517 557 597 637 677 717 757 797 837 877 917 957 997 1037 1077 1117 1157 1197 1237 1277 1317 1357 1397 1437 1477 1517 1557 1597; 38 78 118 158 198 238 278 318 358 398 438 478 518 558 598 638 678 718 758 798 838 878 918 958 998 1038 1078 1118 1158 1198 1238 1278 1318 1358 1398 1438 1478 1518 1558 1598; 39 79 119 159 199 239 279 319 359 399 439 479 519 559 599 639 679 719 759 799 839 879 919 959 999 1039 1079 1119 1159 1199 1239 1279 1319 1359 1399 1439 1479 1519 1559 1599; 40 80 120 160 200 240 280 320 360 400 440 480 520 560 600 640 680 720 760 800 840 880 920 960 1000 1040 1080 1120 1160 1200 1240 1280 1320 1360 1400 1440 1480 1520 1560 1600]\n"
     ]
    }
   ],
   "source": []
  }
 ],
 "metadata": {
  "kernelspec": {
   "display_name": "Julia 0.6.4",
   "language": "julia",
   "name": "julia-0.6"
  },
  "language_info": {
   "file_extension": ".jl",
   "mimetype": "application/julia",
   "name": "julia",
   "version": "0.6.4"
  }
 },
 "nbformat": 4,
 "nbformat_minor": 2
}
