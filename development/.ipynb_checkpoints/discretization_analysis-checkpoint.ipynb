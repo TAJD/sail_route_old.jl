{
 "cells": [
  {
   "cell_type": "code",
   "execution_count": 60,
   "metadata": {},
   "outputs": [],
   "source": [
    "import os, sys, glob, re\n",
    "import numpy as np\n",
    "import pandas as pd\n",
    "from scipy import linspace, polyval, polyfit, sqrt, stats, randn\n",
    "import matplotlib\n",
    "# matplotlib.use('agg')\n",
    "import matplotlib.pyplot as plt\n",
    "from mpl_toolkits.basemap import Basemap\n",
    "\n",
    "plt.rcParams['savefig.dpi'] = 400\n",
    "plt.rcParams['figure.autolayout'] = True\n",
    "plt.rcParams['figure.figsize'] = 10, 6\n",
    "plt.rcParams['axes.labelsize'] = 14\n",
    "plt.rcParams['axes.titlesize'] = 20\n",
    "plt.rcParams['font.size'] = 16\n",
    "plt.rcParams['lines.linewidth'] = 2.0\n",
    "plt.rcParams['lines.markersize'] = 8\n",
    "plt.rcParams['legend.fontsize'] = 12\n",
    "# plt.rcParams['text.usetex'] = True\n",
    "# plt.rcParams[\"font.family\"] = \"Times New Roman\"  \n",
    "plt.rcParams['font.serif'] = \"cm\"\n",
    "plt.rcParams['text.latex.preamble'] = \"\"\"\\\\usepackage{subdepth},\n",
    "                                         \\\\usepackage{type1cm}\"\"\"\n",
    "%matplotlib inline"
   ]
  },
  {
   "cell_type": "markdown",
   "metadata": {},
   "source": [
    "# Discretization analysis\n",
    "\n",
    "Method;\n",
    "\n",
    "1. Generate logarithmically scaled grid heights.\n",
    "2. Simulate the shortest path for each grid height.\n",
    "\n",
    "## Results\n",
    "\n",
    "1. Plot of voyaging time as a function of grid height for a standard upwind voyaging scenario. "
   ]
  },
  {
   "cell_type": "code",
   "execution_count": 9,
   "metadata": {},
   "outputs": [
    {
     "name": "stderr",
     "output_type": "stream",
     "text": [
      "/Users/thomasdickson/miniconda3/envs/ml_analysis/lib/python3.6/site-packages/matplotlib/figure.py:2299: UserWarning: This figure includes Axes that are not compatible with tight_layout, so results might be incorrect.\n",
      "  warnings.warn(\"This figure includes Axes that are not compatible \"\n"
     ]
    },
    {
     "data": {
      "image/png": "[encoded data removed]",
      "text/plain": [
       "<Figure size 432x288 with 1 Axes>"
      ]
     },
     "metadata": {
      "needs_background": "light"
     },
     "output_type": "display_data"
    }
   ],
   "source": [
    "def plot_discretization_scatter():\n",
    "    df = pd.read_csv(\"constant_upwind_discretization.txt\")\n",
    "    times = np.array(df['times'].values)\n",
    "    heights = np.array(df['heights'].values)\n",
    "    nd_times = np.array([(times[i] - times[0])/times[0] for i in range(len(times))])\n",
    "    # print(nd_times[1:5])\n",
    "    # f, (ax1, ax2) = plt.subplots(1, 2, sharey=True)\n",
    "    # ax1.scatter(nd_times, heights)\n",
    "    # ax1.set_title('$V_t = f(d_n)$')\n",
    "    # ax2.scatter(nd_times, heights)\n",
    "    # ax2.set_xscale('log')\n",
    "    plt.figure()\n",
    "    plt.yscale('log')\n",
    "    plt.xscale('log')\n",
    "    h = 5.0\n",
    "    plt.scatter(heights[heights<h], nd_times[heights<h])\n",
    "    plt.xlabel(\"Height of grid as $\\%$ voyage length\")\n",
    "    plt.ylabel(r\"$\\frac{V_{t, i} - V_{t, min}}{V_{t, min}}$\")\n",
    "    plt.show()\n",
    "#     plt.savefig(\"discretization.png\")\n",
    "plot_discretization_scatter()"
   ]
  },
  {
   "cell_type": "code",
   "execution_count": 27,
   "metadata": {},
   "outputs": [
    {
     "name": "stderr",
     "output_type": "stream",
     "text": [
      "/Users/thomasdickson/miniconda3/envs/ml_analysis/lib/python3.6/site-packages/matplotlib/figure.py:2299: UserWarning: This figure includes Axes that are not compatible with tight_layout, so results might be incorrect.\n",
      "  warnings.warn(\"This figure includes Axes that are not compatible \"\n"
     ]
    },
    {
     "data": {
      "image/png": "[encoded data removed]",
      "text/plain": [
       "<Figure size 432x288 with 1 Axes>"
      ]
     },
     "metadata": {
      "needs_background": "light"
     },
     "output_type": "display_data"
    }
   ],
   "source": [
    "def plot_discretization(df):\n",
    "    times = np.array(df['times'].values)\n",
    "    heights = np.array(df['heights'].values)\n",
    "    nd_times = np.array([(times[i] - times[0])/times[0] for i in range(len(times))])\n",
    "    plt.figure()\n",
    "#     plt.yscale('log')\n",
    "#     plt.xscale('log')\n",
    "    h = 10.0\n",
    "#     plt.xlim(xmin=0.0)\n",
    "    plt.scatter(heights[heights<h], nd_times[heights<h])\n",
    "    plt.xlabel(\"Height of grid as $\\%$ voyage length\")\n",
    "    plt.ylabel(r\"$\\frac{V_{t, i} - V_{t, min}}{V_{t, min}}$\")\n",
    "    plt.show()\n",
    "df1 = pd.read_csv(\"constant_upwind_discretization.txt\")\n",
    "plot_discretization(df1)"
   ]
  },
  {
   "cell_type": "code",
   "execution_count": 61,
   "metadata": {},
   "outputs": [
    {
     "name": "stderr",
     "output_type": "stream",
     "text": [
      "/Users/thomasdickson/miniconda3/envs/ml_analysis/lib/python3.6/site-packages/matplotlib/figure.py:2299: UserWarning: This figure includes Axes that are not compatible with tight_layout, so results might be incorrect.\n",
      "  warnings.warn(\"This figure includes Axes that are not compatible \"\n"
     ]
    },
    {
     "data": {
      "image/png": "[encoded data removed]",
      "text/plain": [
       "<Figure size 432x288 with 1 Axes>"
      ]
     },
     "metadata": {
      "needs_background": "light"
     },
     "output_type": "display_data"
    }
   ],
   "source": [
    "def plot_discretization_log(df):\n",
    "    times = np.array(df['times'].values)\n",
    "    heights = np.array(df['heights'].values)\n",
    "    nd_times = np.array([(times[i] - times[0])/times[0] for i in range(len(times))])\n",
    "    plt.figure()\n",
    "    plt.yscale('log')\n",
    "    plt.xscale('log')\n",
    "    h = 5.0\n",
    "    plt.scatter(heights[heights<h], nd_times[heights<h])\n",
    "    plt.xlabel(\"Height of grid as $\\%$ voyage length\")\n",
    "    plt.ylabel(r\"$\\frac{V_{t, i} - V_{t, min}}{V_{t, min}}$\")\n",
    "    plt.show()\n",
    "df1 = pd.read_csv(\"constant_upwind_discretization.txt\")\n",
    "plot_discretization_log(df1)"
   ]
  },
  {
   "cell_type": "markdown",
   "metadata": {},
   "source": [
    "Take logs of results below 2% grid height and plot the rate of convergence."
   ]
  },
  {
   "cell_type": "code",
   "execution_count": 92,
   "metadata": {},
   "outputs": [
    {
     "name": "stdout",
     "output_type": "stream",
     "text": [
      "27\n",
      "27\n",
      "Low component regression\n",
      "regression: a=6.93 b=-7.10, ms error= 52.246\n",
      "\n",
      "\n"
     ]
    },
    {
     "name": "stderr",
     "output_type": "stream",
     "text": [
      "/Users/thomasdickson/miniconda3/envs/ml_analysis/lib/python3.6/site-packages/matplotlib/figure.py:2299: UserWarning: This figure includes Axes that are not compatible with tight_layout, so results might be incorrect.\n",
      "  warnings.warn(\"This figure includes Axes that are not compatible \"\n"
     ]
    },
    {
     "data": {
      "image/png": "[encoded data removed]",
      "text/plain": [
       "<Figure size 432x288 with 1 Axes>"
      ]
     },
     "metadata": {
      "needs_background": "light"
     },
     "output_type": "display_data"
    }
   ],
   "source": [
    "df = pd.read_csv(\"constant_upwind_discretization.txt\")\n",
    "def log_convergence(df, threshold):\n",
    "    times = np.array(df['times'].values)\n",
    "    heights = np.array(df['heights'].values)\n",
    "    nd_times = np.array([(times[i] - times[0])/times[0] for i in range(len(times))])\n",
    "    ts = nd_times[heights<threshold]\n",
    "    hs = heights[heights<threshold]\n",
    "    high_ts = ts[ts>0.002]\n",
    "    high_hs = hs[ts>0.002]\n",
    "    log_high_hs = np.log(high_hs)\n",
    "    log_high_ts = np.log(high_ts)\n",
    "    low_ts = ts[ts<0.002]\n",
    "    low_hs = hs[ts<0.002]\n",
    "    log_low_ts = np.log(low_ts[low_ts>0.0])\n",
    "    log_low_hs = np.log(low_hs[low_ts>0.0])\n",
    "    (ar_l, br_l) = polyfit(log_low_hs, log_low_ts, 1)\n",
    "    log_predict_low_ts = polyval([ar_l, br_l], log_low_ts)\n",
    "    print(len(log_predict_low_ts))\n",
    "    print(len(log_low_hs))\n",
    "    # compute the mean square error\n",
    "    err_l = sqrt(sum((log_predict_low_ts - log_low_ts)**2)/len(log_low_ts))\n",
    "    print('Low component regression')\n",
    "    print('regression: a=%.2f b=%.2f, ms error= %.3f' % (ar_l, br_l, err_l))\n",
    "    print('\\n')\n",
    "#     (ar_h, br_h) = polyfit(log_high_hs, log_high_ts, 1)\n",
    "#     log_predict_high_vts = polyval([ar_h, br_h], log_high_ts)\n",
    "#     # compute the mean square error\n",
    "#     err_h = sqrt(sum((log_predict_high_vts - log_high_ts)**2)/len(log_high_ts))\n",
    "#     print('Low component regression')\n",
    "#     print('regression: a=%.2f b=%.2f, ms error= %.3f' % (ar_h, br_h, err_h))\n",
    "#     print('\\n')\n",
    "    plt.figure()\n",
    "#     plt.plot(log_high_hs, log_high_ts, 'g.', label='High component')\n",
    "    plt.plot(log_low_hs, log_low_ts, 'k.', label='Low component')\n",
    "    plt.plot(log_low_hs, log_predict_low_ts, 'g.-', label=\"Low component regression\")\n",
    "# #     plt.plot(high_hs, log_predict_high_vts, 'g.-', label=\"High component regression\")\n",
    "#     plt.yscale('log')\n",
    "#     plt.xscale('log')\n",
    "    plt.show()\n",
    "\n",
    "    \n",
    "\n",
    "    \n",
    "log_convergence(df, 2.0)\n",
    "\n"
   ]
  }
 ],
 "metadata": {
  "kernelspec": {
   "display_name": "Python 3",
   "language": "python",
   "name": "python3"
  },
  "language_info": {
   "codemirror_mode": {
    "name": "ipython",
    "version": 3
   },
   "file_extension": ".py",
   "mimetype": "text/x-python",
   "name": "python",
   "nbconvert_exporter": "python",
   "pygments_lexer": "ipython3",
   "version": "3.6.6"
  }
 },
 "nbformat": 4,
 "nbformat_minor": 2
}
